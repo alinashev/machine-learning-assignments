{
  "nbformat": 4,
  "nbformat_minor": 0,
  "metadata": {
    "colab": {
      "provenance": [],
      "collapsed_sections": [
        "TSJ1P4OuOVe2",
        "ejPYP0AHzZ9K",
        "koMy2Erb0G1K",
        "dh44hB240eGi",
        "u6RvWVfhPy-k",
        "OOwbjEcx4H2r"
      ]
    },
    "kernelspec": {
      "name": "python3",
      "display_name": "Python 3"
    },
    "language_info": {
      "name": "python"
    }
  },
  "cells": [
    {
      "cell_type": "markdown",
      "source": [
        "## Домашнє завдання:  Матриці і вектори (вступ до лін. алгебри)"
      ],
      "metadata": {
        "id": "KmNGs0vio8z4"
      }
    },
    {
      "cell_type": "code",
      "source": [
        "import numpy as np\n",
        "import random"
      ],
      "metadata": {
        "id": "3MYclMGfpObr"
      },
      "execution_count": 47,
      "outputs": []
    },
    {
      "cell_type": "markdown",
      "source": [
        "### Завдання 1: Створення матриць та векторів\n",
        "1. Створіть `numpy` вектор `vector` розмірністю 10 з випадковими дійсними значеннями в діапазоні від 0 до 1. Можна скористатись двома альтернативними варіантами:\n",
        "  1. Генерація випадкових чисел з модулем [`random.uniform`](https://docs.python.org/3/library/random.html).\n",
        "  2. Створення вектора з допомогою метода `numpy` [np.random.rand](https://numpy.org/doc/stable/reference/random/generated/numpy.random.rand.html)\n",
        "\n",
        "2. Створіть матрицю `matrix` типу `numpy.array` розмірності 3x3 з наступними значеннями\n",
        "\n",
        "  $$\n",
        "  matrix = \\begin{bmatrix}\n",
        "  11 & 14 & 17 \\\\\n",
        "  20 & 23 & 26 \\\\\n",
        "  29 & 32 & 35\n",
        "  \\end{bmatrix}\n",
        "  $$\n",
        "\n",
        "  будь-яким відомими Вам способом.\n",
        "\n",
        "Виведіть на екран вектор і матрицю, а також їх розміри.\n"
      ],
      "metadata": {
        "id": "efug1V4CM0lT"
      }
    },
    {
      "cell_type": "markdown",
      "source": [
        "##### 1.1 Створення вектору"
      ],
      "metadata": {
        "id": "dnvL7lnnrDPQ"
      }
    },
    {
      "cell_type": "markdown",
      "source": [
        "Створення вектору за допомогою опції 1 (генерація випадкових чисел з модулем random.uniform):"
      ],
      "metadata": {
        "id": "RKgIK6tPp7Lb"
      }
    },
    {
      "cell_type": "markdown",
      "source": [
        "Створення вектору рядка:"
      ],
      "metadata": {
        "id": "ekU4zfemuX01"
      }
    },
    {
      "cell_type": "code",
      "source": [
        "u = np.array([random.uniform(0, 1) for _ in range(10)])\n",
        "u, u.shape"
      ],
      "metadata": {
        "id": "jxA_lG2_VIMe",
        "colab": {
          "base_uri": "https://localhost:8080/"
        },
        "outputId": "ca82da40-1f7f-47f5-8abd-ebe446d08302"
      },
      "execution_count": 48,
      "outputs": [
        {
          "output_type": "execute_result",
          "data": {
            "text/plain": [
              "(array([0.83662341, 0.8868995 , 0.99742752, 0.68754829, 0.3916487 ,\n",
              "        0.20481268, 0.20425515, 0.41157767, 0.80131783, 0.69459096]),\n",
              " (10,))"
            ]
          },
          "metadata": {},
          "execution_count": 48
        }
      ]
    },
    {
      "cell_type": "markdown",
      "source": [
        "Створення вектору стовпця:"
      ],
      "metadata": {
        "id": "BfK_x0uoudr5"
      }
    },
    {
      "cell_type": "code",
      "source": [
        "v = np.array([[random.uniform(0, 1)] for _ in range(10)])\n",
        "v, v.shape"
      ],
      "metadata": {
        "id": "JkWTkpCssRP7",
        "colab": {
          "base_uri": "https://localhost:8080/"
        },
        "outputId": "d255b33c-b61d-49f6-fbf2-03d93346789a"
      },
      "execution_count": 49,
      "outputs": [
        {
          "output_type": "execute_result",
          "data": {
            "text/plain": [
              "(array([[0.75375142],\n",
              "        [0.96465393],\n",
              "        [0.18209441],\n",
              "        [0.17454076],\n",
              "        [0.93480486],\n",
              "        [0.00201433],\n",
              "        [0.24277764],\n",
              "        [0.06570891],\n",
              "        [0.97329483],\n",
              "        [0.26165012]]),\n",
              " (10, 1))"
            ]
          },
          "metadata": {},
          "execution_count": 49
        }
      ]
    },
    {
      "cell_type": "markdown",
      "source": [
        "Створення вектору за допомогою опції 2 (генерація випадкових чисел з модулем random.uniform):"
      ],
      "metadata": {
        "id": "a0bGDaF3qPDy"
      }
    },
    {
      "cell_type": "markdown",
      "source": [
        "Створення вектору рядка:"
      ],
      "metadata": {
        "id": "YP7Ojf8grSFK"
      }
    },
    {
      "cell_type": "code",
      "source": [
        "u = np.random.rand(10)\n",
        "u, u.shape"
      ],
      "metadata": {
        "colab": {
          "base_uri": "https://localhost:8080/"
        },
        "id": "Mvr_QTygqUbc",
        "outputId": "8cc86012-0587-468b-86d3-a9f400e8be40"
      },
      "execution_count": 50,
      "outputs": [
        {
          "output_type": "execute_result",
          "data": {
            "text/plain": [
              "(array([0.93444183, 0.81287804, 0.04867243, 0.08870571, 0.70598154,\n",
              "        0.815118  , 0.38508033, 0.86976379, 0.51398228, 0.26528863]),\n",
              " (10,))"
            ]
          },
          "metadata": {},
          "execution_count": 50
        }
      ]
    },
    {
      "cell_type": "markdown",
      "source": [
        "Створення вектору стовпця:"
      ],
      "metadata": {
        "id": "GDlDNrHtrX2w"
      }
    },
    {
      "cell_type": "code",
      "source": [
        "v = np.random.rand(10, 1)\n",
        "v, v.shape"
      ],
      "metadata": {
        "colab": {
          "base_uri": "https://localhost:8080/"
        },
        "id": "fO7T6yb-q7-I",
        "outputId": "696a7b40-feaf-4540-ad91-107eadc0cc96"
      },
      "execution_count": 51,
      "outputs": [
        {
          "output_type": "execute_result",
          "data": {
            "text/plain": [
              "(array([[0.77964287],\n",
              "        [0.13384366],\n",
              "        [0.47305861],\n",
              "        [0.89870243],\n",
              "        [0.14347272],\n",
              "        [0.80941237],\n",
              "        [0.65017959],\n",
              "        [0.29173208],\n",
              "        [0.39466199],\n",
              "        [0.01067724]]),\n",
              " (10, 1))"
            ]
          },
          "metadata": {},
          "execution_count": 51
        }
      ]
    },
    {
      "cell_type": "markdown",
      "source": [
        "#### 1.2 Створення матриці"
      ],
      "metadata": {
        "id": "AhxhiIO3qU2S"
      }
    },
    {
      "cell_type": "code",
      "source": [
        "matrix = np.array([[11, 14, 17], [20, 23, 26], [29, 32, 35]])\n",
        "matrix, matrix.shape"
      ],
      "metadata": {
        "colab": {
          "base_uri": "https://localhost:8080/"
        },
        "id": "VWlJV6uQqehC",
        "outputId": "1a087c61-ca9e-493c-9f80-560523660b31"
      },
      "execution_count": 52,
      "outputs": [
        {
          "output_type": "execute_result",
          "data": {
            "text/plain": [
              "(array([[11, 14, 17],\n",
              "        [20, 23, 26],\n",
              "        [29, 32, 35]]),\n",
              " (3, 3))"
            ]
          },
          "metadata": {},
          "execution_count": 52
        }
      ]
    },
    {
      "cell_type": "code",
      "source": [
        "print(\n",
        "    f\"Матриця:\\n\"\n",
        "    f\"{matrix}\\n\"\n",
        "    f\"Розміри матриці: {matrix.shape}\\n\"\n",
        "    f\"\\n\"\n",
        "    f\"Вектор рядок (u):\\n\"\n",
        "    f\"{u}\\n\"\n",
        "    f\"Розміри: {u.shape}\\n\"\n",
        "    f\"\\n\"\n",
        "    f\"Вектор стовпець (v):\\n\"\n",
        "    f\"{v}\\n\"\n",
        "    f\"Розміри: {v.shape}\\n\"\n",
        ")\n"
      ],
      "metadata": {
        "colab": {
          "base_uri": "https://localhost:8080/"
        },
        "id": "nU443gawxKCG",
        "outputId": "f7dce67c-ae48-43b7-fa26-fa02f5090128"
      },
      "execution_count": 53,
      "outputs": [
        {
          "output_type": "stream",
          "name": "stdout",
          "text": [
            "Матриця:\n",
            "[[11 14 17]\n",
            " [20 23 26]\n",
            " [29 32 35]]\n",
            "Розміри матриці: (3, 3)\n",
            "\n",
            "Вектор рядок (u):\n",
            "[0.93444183 0.81287804 0.04867243 0.08870571 0.70598154 0.815118\n",
            " 0.38508033 0.86976379 0.51398228 0.26528863]\n",
            "Розміри: (10,)\n",
            "\n",
            "Вектор стовпець (v):\n",
            "[[0.77964287]\n",
            " [0.13384366]\n",
            " [0.47305861]\n",
            " [0.89870243]\n",
            " [0.14347272]\n",
            " [0.80941237]\n",
            " [0.65017959]\n",
            " [0.29173208]\n",
            " [0.39466199]\n",
            " [0.01067724]]\n",
            "Розміри: (10, 1)\n",
            "\n"
          ]
        }
      ]
    },
    {
      "cell_type": "markdown",
      "source": [
        "**ПРИМІТКА**\n",
        "\n",
        "Замість запропонованого імені `vector` використовую ім'я змінної `u`, так як розглядаю додатково ще вектор-стовпець `v`."
      ],
      "metadata": {
        "id": "QWZpN1cjLkQy"
      }
    },
    {
      "cell_type": "markdown",
      "source": [
        "\n",
        "### Завдання 2: Операції над векторами та матрицями\n",
        "Виконайте кожну з зазначених операцій над зазначеними оʼєктами і виведіть результат на екран:\n",
        "1. Додайте до кожного значення вектора `vector` число 10 і округліть кожне значення до 2 знаків після коми без використання циклів.\n",
        "2. Помножте кожен елемент матриці з першого завдання на 2 без використання циклів.\n",
        "3. Створіть новий вектор, який містить квадрат кожного `vector` без циклів.\n"
      ],
      "metadata": {
        "id": "TSJ1P4OuOVe2"
      }
    },
    {
      "cell_type": "markdown",
      "source": [
        "Далі для зручності я взяла лише векор u (вектор-рядок)."
      ],
      "metadata": {
        "id": "h3LTL5JfzMss"
      }
    },
    {
      "cell_type": "markdown",
      "source": [
        "#### 2.1 Додавання до вектора значення 10 та округлення значень"
      ],
      "metadata": {
        "id": "ejPYP0AHzZ9K"
      }
    },
    {
      "cell_type": "code",
      "source": [
        "u"
      ],
      "metadata": {
        "colab": {
          "base_uri": "https://localhost:8080/"
        },
        "id": "WPpdXW-6zui-",
        "outputId": "54766161-a4fd-4e78-bea3-2ebbb2dc11cc"
      },
      "execution_count": 54,
      "outputs": [
        {
          "output_type": "execute_result",
          "data": {
            "text/plain": [
              "array([0.93444183, 0.81287804, 0.04867243, 0.08870571, 0.70598154,\n",
              "       0.815118  , 0.38508033, 0.86976379, 0.51398228, 0.26528863])"
            ]
          },
          "metadata": {},
          "execution_count": 54
        }
      ]
    },
    {
      "cell_type": "code",
      "source": [
        "u = np.round(u + 10, 2)\n",
        "u"
      ],
      "metadata": {
        "id": "nAAojtyUVJXN",
        "colab": {
          "base_uri": "https://localhost:8080/"
        },
        "outputId": "4aabab39-6214-43bf-9232-4994a68a87e8"
      },
      "execution_count": 56,
      "outputs": [
        {
          "output_type": "execute_result",
          "data": {
            "text/plain": [
              "array([10.93, 10.81, 10.05, 10.09, 10.71, 10.82, 10.39, 10.87, 10.51,\n",
              "       10.27])"
            ]
          },
          "metadata": {},
          "execution_count": 56
        }
      ]
    },
    {
      "cell_type": "markdown",
      "source": [
        "#### 2.2 Домноження матриці на 2"
      ],
      "metadata": {
        "id": "koMy2Erb0G1K"
      }
    },
    {
      "cell_type": "code",
      "source": [
        "matrix"
      ],
      "metadata": {
        "colab": {
          "base_uri": "https://localhost:8080/"
        },
        "id": "BINKdE-20Vg1",
        "outputId": "8d3bb89f-eac3-4c65-d076-f1f8966a4ca0"
      },
      "execution_count": 58,
      "outputs": [
        {
          "output_type": "execute_result",
          "data": {
            "text/plain": [
              "array([[11, 14, 17],\n",
              "       [20, 23, 26],\n",
              "       [29, 32, 35]])"
            ]
          },
          "metadata": {},
          "execution_count": 58
        }
      ]
    },
    {
      "cell_type": "code",
      "source": [
        "matrix * 2"
      ],
      "metadata": {
        "colab": {
          "base_uri": "https://localhost:8080/"
        },
        "id": "JsB_fDzU0GhH",
        "outputId": "f2d7d5ef-9fed-42d2-c873-e45afe77b5d2"
      },
      "execution_count": 57,
      "outputs": [
        {
          "output_type": "execute_result",
          "data": {
            "text/plain": [
              "array([[22, 28, 34],\n",
              "       [40, 46, 52],\n",
              "       [58, 64, 70]])"
            ]
          },
          "metadata": {},
          "execution_count": 57
        }
      ]
    },
    {
      "cell_type": "markdown",
      "source": [
        "#### 2.3 Створення нового вектору, який містить квадрат кожного vector"
      ],
      "metadata": {
        "id": "dh44hB240eGi"
      }
    },
    {
      "cell_type": "code",
      "source": [
        "squared_u = np.square(u)\n",
        "squared_u"
      ],
      "metadata": {
        "colab": {
          "base_uri": "https://localhost:8080/"
        },
        "id": "5NkngIXd0x_5",
        "outputId": "8854b6c2-d453-4ea3-a3be-f6bb35bd317f"
      },
      "execution_count": 61,
      "outputs": [
        {
          "output_type": "execute_result",
          "data": {
            "text/plain": [
              "array([119.4649, 116.8561, 101.0025, 101.8081, 114.7041, 117.0724,\n",
              "       107.9521, 118.1569, 110.4601, 105.4729])"
            ]
          },
          "metadata": {},
          "execution_count": 61
        }
      ]
    },
    {
      "cell_type": "markdown",
      "source": [
        "\n",
        "### Завдання 3: Множення матриць\n",
        "1. Задані дві матриці `A` і `B`розмірностями 3x2 та 2х3. Виконайте їхнє множення, щоб отримати матрицю 2x2. Виведіть результуючу матрицю `result_matrix` на екран.\n",
        "\n",
        "2. Заданий вектор `C` розмірністю 2х1. Подумайте спочатку, яку розмірність Ви отрмаєте, коли домножите `result_matrix` на вектор `C` і який результат буде. А потім виконайте множення і виведіть результат на екран.\n",
        "\n",
        "3. Задана матриця `D` розмірністю 2х2. Подумайте спочатку, яку розмірність Ви отрмаєте, коли домножите `result_matrix` на матрицю `D` і який результат буде. А потім виконайте множення і виведіть результат на екран."
      ],
      "metadata": {
        "id": "u6RvWVfhPy-k"
      }
    },
    {
      "cell_type": "code",
      "source": [
        "A = np.array(\n",
        "    [[0.18, 0.53],\n",
        "     [0.75, 0.47],\n",
        "     [0.35, 0.21]])\n",
        "\n",
        "B = np.array(\n",
        "    [[0.17, 0.58, 0.75],\n",
        "     [0.38, 0.11, 0.15]])\n",
        "\n",
        "C = np.array([[0], [1]])\n",
        "\n",
        "D = np.array([[0,1], [1,0]])\n",
        "\n",
        "display(A, B, C, D)"
      ],
      "metadata": {
        "id": "RwXfPzlbSJ44",
        "colab": {
          "base_uri": "https://localhost:8080/",
          "height": 173
        },
        "outputId": "961eba8d-eb56-43ce-c4e8-4ba9c34c56ac"
      },
      "execution_count": 62,
      "outputs": [
        {
          "output_type": "display_data",
          "data": {
            "text/plain": [
              "array([[0.18, 0.53],\n",
              "       [0.75, 0.47],\n",
              "       [0.35, 0.21]])"
            ]
          },
          "metadata": {}
        },
        {
          "output_type": "display_data",
          "data": {
            "text/plain": [
              "array([[0.17, 0.58, 0.75],\n",
              "       [0.38, 0.11, 0.15]])"
            ]
          },
          "metadata": {}
        },
        {
          "output_type": "display_data",
          "data": {
            "text/plain": [
              "array([[0],\n",
              "       [1]])"
            ]
          },
          "metadata": {}
        },
        {
          "output_type": "display_data",
          "data": {
            "text/plain": [
              "array([[0, 1],\n",
              "       [1, 0]])"
            ]
          },
          "metadata": {}
        }
      ]
    },
    {
      "cell_type": "markdown",
      "source": [
        "#### 3.1 Множення матриць  $A$ та $B$ так, щоб результуюча матриця $R$ мала розмірність $(2 \\times 2)$"
      ],
      "metadata": {
        "id": "OOwbjEcx4H2r"
      }
    },
    {
      "cell_type": "code",
      "source": [
        "result_matrix = B.dot(A)\n",
        "result_matrix"
      ],
      "metadata": {
        "colab": {
          "base_uri": "https://localhost:8080/"
        },
        "id": "P83jQdZM9vMM",
        "outputId": "84dbc103-6c6d-4c0f-9022-030d93bfe148"
      },
      "execution_count": 68,
      "outputs": [
        {
          "output_type": "execute_result",
          "data": {
            "text/plain": [
              "array([[0.7281, 0.5202],\n",
              "       [0.2034, 0.2846]])"
            ]
          },
          "metadata": {},
          "execution_count": 68
        }
      ]
    },
    {
      "cell_type": "markdown",
      "source": [
        "Отримано результуючу матрицю розміром $(2 \\times 2)$. Щоб отрмати матрицю розмірністю $(2 \\times 2)$, необхідно виконати множення саме матриці $B_{2 \\times 3}$ на матрицю $A_{3 \\times 2}$.\n",
        "\n",
        "$R_{2 \\times 2} = B_{2 \\times 3}A_{3 \\times 2}$"
      ],
      "metadata": {
        "id": "jWkxo0H649Z3"
      }
    },
    {
      "cell_type": "markdown",
      "source": [
        "#### 3.2 Множення вектору $С$ на результуючу множення $R$"
      ],
      "metadata": {
        "id": "cqvB0dcZ4pdJ"
      }
    },
    {
      "cell_type": "markdown",
      "source": [
        "У результаті множення матриць $A_{3 \\times 2}$ та матриці $B_{2 \\times 3}$, так щоб результуюча матриця була розмірнісью $(2 \\times 2)$, було виконано множення $B_{2 \\times 3}A_{3 \\times 2}$.\n",
        "\n",
        "Нехай матриця $R$ результуюча для множення $B$ $A$. Тоді $R_{2 \\times 2} = B_{2 \\times 3}A_{3 \\times 2}$.\n",
        "\n",
        "Нехай матриця $N$ результуюча для множення $R$ $C$.\n",
        "\n",
        "Якщо домножемо $R_{2 \\times 2}$ на $C_{2 \\times 1}$ отримаємо матрицю $N$ розмірністю $(2 \\times 1)$.\n",
        "\n"
      ],
      "metadata": {
        "id": "cznQwzlW5LB-"
      }
    },
    {
      "cell_type": "code",
      "source": [
        "N = result_matrix.dot(C)\n",
        "N, N.shape"
      ],
      "metadata": {
        "colab": {
          "base_uri": "https://localhost:8080/"
        },
        "id": "fdT90O_k4o1h",
        "outputId": "4c013164-9522-4c54-934b-d9f0e8f72a18"
      },
      "execution_count": 72,
      "outputs": [
        {
          "output_type": "execute_result",
          "data": {
            "text/plain": [
              "(array([[0.5202],\n",
              "        [0.2846]]),\n",
              " (2, 1))"
            ]
          },
          "metadata": {},
          "execution_count": 72
        }
      ]
    },
    {
      "cell_type": "markdown",
      "source": [
        "Виконавши множення можемо впевнетись, що розмірність отриманої матриці $N$ після множення $R_{2 \\times 2}$ на $C_{2 \\times 1}$ - $(2 \\times 1)$.\n",
        "\n",
        "Отже  $N_{2 \\times 1} = R_{2 \\times 2} C_{2 \\times 1}$."
      ],
      "metadata": {
        "id": "AWTkE9ZX_qO_"
      }
    },
    {
      "cell_type": "markdown",
      "source": [
        "#### 3.3 Множення матриці $D$ на  результуючу множення матриць $R$"
      ],
      "metadata": {
        "id": "doTqdmVNAahn"
      }
    },
    {
      "cell_type": "markdown",
      "source": [
        "Результуюча множення має розмірність $({2 \\times 2})$ - $R_{2 \\times 2}$\n",
        "\n",
        "$R_{2 \\times 2} = B_{2 \\times 3}A_{3 \\times 2}$\n",
        "\n",
        "Нехай матриця $P$ результуюча для множення $RD$.\n",
        "\n",
        "Тоді матриця $P$ буде мати розмірність $({2 \\times 2})$\n",
        "\n",
        "$P_{2 \\times 2} = R_{2 \\times 2} D_{2 \\times 2}$"
      ],
      "metadata": {
        "id": "vL8GOYpqBkk-"
      }
    },
    {
      "cell_type": "code",
      "source": [
        "P = result_matrix.dot(D)\n",
        "P, P.shape"
      ],
      "metadata": {
        "colab": {
          "base_uri": "https://localhost:8080/"
        },
        "id": "e44unJav_bz4",
        "outputId": "cff6b195-a15a-4368-be14-592b4334b918"
      },
      "execution_count": 73,
      "outputs": [
        {
          "output_type": "execute_result",
          "data": {
            "text/plain": [
              "(array([[0.5202, 0.7281],\n",
              "        [0.2846, 0.2034]]),\n",
              " (2, 2))"
            ]
          },
          "metadata": {},
          "execution_count": 73
        }
      ]
    },
    {
      "cell_type": "markdown",
      "source": [
        "Виконавши множення можемо впевнетись, що розмірність отриманої матриці $P$ після множення $R_{2 \\times 2}$ на $D_{2 \\times 2}$ - $(2 \\times 2)$.\n",
        "\n",
        "Отже  $P_{2 \\times 2} = R_{2 \\times 2} D_{2 \\times 2}$.\n"
      ],
      "metadata": {
        "id": "VcWNhDt3ElJZ"
      }
    },
    {
      "cell_type": "markdown",
      "source": [
        "\n",
        "### Завдання 4: Транспонування матриць\n",
        "1. Транспонуйте `result_matrix`.\n",
        "2. Зробіть транспонування вектора `vector` і виведіть форму нової структури. Чи бачите ви зміну?\n",
        "3. Використайте операцію `numpy.expand_dims` над вектором `vector` з аргументом axis=1. Запишіть отриманий результат в змінну `column_vector` і виведіть на екран. Порівняйте з `vector`.\n",
        "4. Зробіть транспонування `column_vector`, виведіть результат на екран разом з розмірностями отриманої структури.\n",
        "\n",
        "\n"
      ],
      "metadata": {
        "id": "wohp0_cxSGpl"
      }
    },
    {
      "cell_type": "markdown",
      "source": [
        "#### 4.1 Транспонування результючої матриці $R$"
      ],
      "metadata": {
        "id": "s6UcaO5jFFHP"
      }
    },
    {
      "cell_type": "code",
      "source": [
        "result_matrix"
      ],
      "metadata": {
        "colab": {
          "base_uri": "https://localhost:8080/"
        },
        "id": "QCiRf-gDFM06",
        "outputId": "46db9561-f482-4438-94b4-e5e08fbca84e"
      },
      "execution_count": 75,
      "outputs": [
        {
          "output_type": "execute_result",
          "data": {
            "text/plain": [
              "array([[0.7281, 0.5202],\n",
              "       [0.2034, 0.2846]])"
            ]
          },
          "metadata": {},
          "execution_count": 75
        }
      ]
    },
    {
      "cell_type": "code",
      "source": [
        "R_T = result_matrix.T\n",
        "R_T"
      ],
      "metadata": {
        "id": "4hFcq1baVLii",
        "colab": {
          "base_uri": "https://localhost:8080/"
        },
        "outputId": "81e48584-2950-4b25-d38a-46ca80231b04"
      },
      "execution_count": 79,
      "outputs": [
        {
          "output_type": "execute_result",
          "data": {
            "text/plain": [
              "array([[0.7281, 0.2034],\n",
              "       [0.5202, 0.2846]])"
            ]
          },
          "metadata": {},
          "execution_count": 79
        }
      ]
    },
    {
      "cell_type": "markdown",
      "source": [
        "Отримано трансаоновану матрицю $R^T$"
      ],
      "metadata": {
        "id": "Q8KkE2AaFWu0"
      }
    },
    {
      "cell_type": "markdown",
      "source": [
        "#### 4.2 Транспонування вектору"
      ],
      "metadata": {
        "id": "cgwHfRdsFllG"
      }
    },
    {
      "cell_type": "code",
      "source": [
        "u, u.shape"
      ],
      "metadata": {
        "colab": {
          "base_uri": "https://localhost:8080/"
        },
        "id": "2jLoJFoIF1yf",
        "outputId": "ec424f95-4d79-4f53-82b5-2cf08785704e"
      },
      "execution_count": 84,
      "outputs": [
        {
          "output_type": "execute_result",
          "data": {
            "text/plain": [
              "(array([10.93, 10.81, 10.05, 10.09, 10.71, 10.82, 10.39, 10.87, 10.51,\n",
              "        10.27]),\n",
              " (10,))"
            ]
          },
          "metadata": {},
          "execution_count": 84
        }
      ]
    },
    {
      "cell_type": "code",
      "source": [
        "u_T = u.T\n",
        "u_T, u_T.shape"
      ],
      "metadata": {
        "colab": {
          "base_uri": "https://localhost:8080/"
        },
        "id": "4IWi6elvFlHG",
        "outputId": "88a543d5-aa49-48b6-c9e4-faa68f6eb651"
      },
      "execution_count": 85,
      "outputs": [
        {
          "output_type": "execute_result",
          "data": {
            "text/plain": [
              "(array([10.93, 10.81, 10.05, 10.09, 10.71, 10.82, 10.39, 10.87, 10.51,\n",
              "        10.27]),\n",
              " (10,))"
            ]
          },
          "metadata": {},
          "execution_count": 85
        }
      ]
    },
    {
      "cell_type": "markdown",
      "source": [
        "Спробувавши застовувати транспонування до вектору рядка, бачимо, що дана спроба не змінила вигляду вектору."
      ],
      "metadata": {
        "id": "k320q0_IGLT5"
      }
    },
    {
      "cell_type": "code",
      "source": [
        "v, v.shape"
      ],
      "metadata": {
        "colab": {
          "base_uri": "https://localhost:8080/"
        },
        "id": "ZtoSBdyBFEKy",
        "outputId": "6515350d-8fa9-435f-e8af-9283dc850eb4"
      },
      "execution_count": 86,
      "outputs": [
        {
          "output_type": "execute_result",
          "data": {
            "text/plain": [
              "(array([[0.77964287],\n",
              "        [0.13384366],\n",
              "        [0.47305861],\n",
              "        [0.89870243],\n",
              "        [0.14347272],\n",
              "        [0.80941237],\n",
              "        [0.65017959],\n",
              "        [0.29173208],\n",
              "        [0.39466199],\n",
              "        [0.01067724]]),\n",
              " (10, 1))"
            ]
          },
          "metadata": {},
          "execution_count": 86
        }
      ]
    },
    {
      "cell_type": "code",
      "source": [
        "v_T = v.T\n",
        "v_T, v_T.shape"
      ],
      "metadata": {
        "colab": {
          "base_uri": "https://localhost:8080/"
        },
        "id": "an_tjWwfGX1t",
        "outputId": "37174a85-e72c-4953-d69f-4a82dadcb745"
      },
      "execution_count": 87,
      "outputs": [
        {
          "output_type": "execute_result",
          "data": {
            "text/plain": [
              "(array([[0.77964287, 0.13384366, 0.47305861, 0.89870243, 0.14347272,\n",
              "         0.80941237, 0.65017959, 0.29173208, 0.39466199, 0.01067724]]),\n",
              " (1, 10))"
            ]
          },
          "metadata": {},
          "execution_count": 87
        }
      ]
    },
    {
      "cell_type": "markdown",
      "source": [
        "Спробувавши застовувати транспонування до вектору стовпця, бачимо, вектор змінив свій вигляд."
      ],
      "metadata": {
        "id": "5wldqGIrGdIy"
      }
    },
    {
      "cell_type": "markdown",
      "source": [
        "#### 4.3 Використання операції `numpy.expand_dims` над вектором `vector` з аргументом axis=1."
      ],
      "metadata": {
        "id": "an5gJZP7Gw2c"
      }
    },
    {
      "cell_type": "code",
      "source": [
        "u, u.shape"
      ],
      "metadata": {
        "colab": {
          "base_uri": "https://localhost:8080/"
        },
        "id": "c2C6uwM4H2M4",
        "outputId": "aa70cf1e-445f-4e50-bdbb-a7e2a063a9d8"
      },
      "execution_count": 90,
      "outputs": [
        {
          "output_type": "execute_result",
          "data": {
            "text/plain": [
              "(array([10.93, 10.81, 10.05, 10.09, 10.71, 10.82, 10.39, 10.87, 10.51,\n",
              "        10.27]),\n",
              " (10,))"
            ]
          },
          "metadata": {},
          "execution_count": 90
        }
      ]
    },
    {
      "cell_type": "code",
      "source": [
        "column_vector = np.expand_dims(u, axis=1)\n",
        "column_vector, column_vector.shape"
      ],
      "metadata": {
        "colab": {
          "base_uri": "https://localhost:8080/"
        },
        "id": "KUSGXVwyGbiN",
        "outputId": "c27a7712-76fb-4df1-caaa-7dd58ee738a0"
      },
      "execution_count": 94,
      "outputs": [
        {
          "output_type": "execute_result",
          "data": {
            "text/plain": [
              "(array([[10.93],\n",
              "        [10.81],\n",
              "        [10.05],\n",
              "        [10.09],\n",
              "        [10.71],\n",
              "        [10.82],\n",
              "        [10.39],\n",
              "        [10.87],\n",
              "        [10.51],\n",
              "        [10.27]]),\n",
              " (10, 1))"
            ]
          },
          "metadata": {},
          "execution_count": 94
        }
      ]
    },
    {
      "cell_type": "markdown",
      "source": [
        "Бачимо, що застосування операції numpy.expand_dims над вектором-рядком додало нову вимірність, перетворюючи вектор з форми $(10,)$ на $(10, 1)$, що робить з вектора-рядка вектор-стовпець."
      ],
      "metadata": {
        "id": "t29SZn9kIOOW"
      }
    },
    {
      "cell_type": "markdown",
      "source": [
        "#### 4.4 Транспонування `column_vector`"
      ],
      "metadata": {
        "id": "KyrWlf-6I5As"
      }
    },
    {
      "cell_type": "code",
      "source": [
        "column_vector_T = column_vector.T\n",
        "column_vector_T, column_vector_T.shape"
      ],
      "metadata": {
        "colab": {
          "base_uri": "https://localhost:8080/"
        },
        "id": "cZltEu6-H1Ma",
        "outputId": "a2429929-b660-4f4c-fdc7-4618e346c320"
      },
      "execution_count": 95,
      "outputs": [
        {
          "output_type": "execute_result",
          "data": {
            "text/plain": [
              "(array([[10.93, 10.81, 10.05, 10.09, 10.71, 10.82, 10.39, 10.87, 10.51,\n",
              "         10.27]]),\n",
              " (1, 10))"
            ]
          },
          "metadata": {},
          "execution_count": 95
        }
      ]
    },
    {
      "cell_type": "markdown",
      "source": [
        "Бачимо, що застосувавши транспонування, вектор-стовбець змінив свій вигляд, та перетворився на верктор-рядок, тобто розмірність змінилась з $(10, 1)$ на $(1, 10)$"
      ],
      "metadata": {
        "id": "nCtDoH6cJ7Zr"
      }
    }
  ]
}