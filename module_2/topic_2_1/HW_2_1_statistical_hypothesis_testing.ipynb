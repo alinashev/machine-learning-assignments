{
  "nbformat": 4,
  "nbformat_minor": 0,
  "metadata": {
    "colab": {
      "provenance": []
    },
    "kernelspec": {
      "name": "python3",
      "display_name": "Python 3"
    },
    "language_info": {
      "name": "python"
    }
  },
  "cells": [
    {
      "cell_type": "markdown",
      "source": [
        "## Домашнє завдання: тестування статистичних гіпотез"
      ],
      "metadata": {
        "id": "Dy10mTM4AVlK"
      }
    },
    {
      "cell_type": "markdown",
      "source": [
        "Необхідні імпорти:"
      ],
      "metadata": {
        "id": "a4Ot0AGaAzJA"
      }
    },
    {
      "cell_type": "code",
      "source": [
        "!pip install statsmodels --quiet"
      ],
      "metadata": {
        "id": "kbjENwADAz_S"
      },
      "execution_count": 3,
      "outputs": []
    },
    {
      "cell_type": "code",
      "source": [
        "import numpy as np\n",
        "from statsmodels.stats.weightstats import ztest\n",
        "from scipy import stats"
      ],
      "metadata": {
        "id": "PyUnIZw1AV8-"
      },
      "execution_count": 21,
      "outputs": []
    },
    {
      "cell_type": "markdown",
      "source": [
        "В цьому ДЗ потренуємось виконувати Z-тести для тестування гіпотез в різних задачах. Для коректної імплементації та інтерпретації тестів рекоемндую переглянути спершу документацію:\n",
        "\n",
        "https://www.statsmodels.org/dev/generated/statsmodels.stats.weightstats.ztest.html\n",
        "\n",
        "### Завдання 1: Z-тест для однієї вибірки\n",
        "\n",
        "**Мета**: Перевірити, чи середнє значення вибірки відрізняється від гіпотетичного середнього.\n",
        "\n",
        "**Припущення**: Середній ріст студентів університету вважається 170 см. Ми хочемо перевірити, чи середній ріст випадкової вибірки студентів істотно більший. Вибірка задана в змінній `heights`.\n",
        "\n",
        "Для виконання завдання імпортуйте метод для проведення `ztest`, виконайте Z-тест з Python, виведіть p-value і зробіть заключення, чи справдилось припущення про середній зріст студентів на рівні значущості 0.05?\n",
        "\n",
        "Використовуємо тут Z-тест, оскільки вибірка достатньо велика (більше 30 екземплярів) і можемо вважати, що її стандартне відхилення близьке до ст. відхилення генеральної сукупності, а значить - відоме."
      ],
      "metadata": {
        "id": "ID3uSQHkQJ2J"
      }
    },
    {
      "cell_type": "code",
      "source": [
        "heights = [174, 171, 175, 179, 170, 170, 179, 175, 169, 174, 169, 169, 173, 162, 163, 169, 166,\n",
        "           173, 167, 164, 179, 170, 172, 164, 169, 175, 169, 174, 169, 169, 173, 162, 177]"
      ],
      "metadata": {
        "id": "TUYNSCDzRE7N"
      },
      "execution_count": 5,
      "outputs": []
    },
    {
      "cell_type": "code",
      "source": [
        "alpha = 0.05\n",
        "mean_height = 170\n",
        "z_score, p_value = ztest(heights, value=mean_height, alternative='larger')\n",
        "z_score, p_value"
      ],
      "metadata": {
        "id": "uTJEZPARYMd4",
        "colab": {
          "base_uri": "https://localhost:8080/"
        },
        "outputId": "d285a914-88b6-4e9a-fbf9-59fe7a234b2d"
      },
      "execution_count": 12,
      "outputs": [
        {
          "output_type": "execute_result",
          "data": {
            "text/plain": [
              "(0.8482235371587619, 0.19815674571091746)"
            ]
          },
          "metadata": {},
          "execution_count": 12
        }
      ]
    },
    {
      "cell_type": "code",
      "source": [
        "if(p_value <  alpha):\n",
        "    print(\"Відхилити Н0.\")\n",
        "else:\n",
        "    print(\"Н0 не може бути відхилена.\")"
      ],
      "metadata": {
        "colab": {
          "base_uri": "https://localhost:8080/"
        },
        "id": "_NBCEFviBGOZ",
        "outputId": "d3f55360-4403-4f68-b238-170138dc6f76"
      },
      "execution_count": 8,
      "outputs": [
        {
          "output_type": "stream",
          "name": "stdout",
          "text": [
            "Н0 не може бути відхилена.\n"
          ]
        }
      ]
    },
    {
      "cell_type": "markdown",
      "source": [
        "**Висновок**:\n",
        "\n",
        "Маємо:\n",
        "\n",
        "*   $H_0$ - середній ріст студентів дорівнює або менший за 170 см ( $H_0$: $ μ <= 170$).\n",
        "*   $H_1$ - середній ріст студентів більший за 170 см ( $H_1$: $ μ > 170$).\n",
        "\n",
        "\n",
        "\n",
        "Провівши Z-тест чи є середній ріст студентів більшим за 170 см. Отримавши значення **p-value = 0,198**, що є більшим за значення рівня значущості $ \\alpha = 0,05 $ - ми не можемо відкинути нульову гіпотезу тверджувати, що середній ріст студентів у вибірці більший за 170 см."
      ],
      "metadata": {
        "id": "ibvjF-7RBF5r"
      }
    },
    {
      "cell_type": "markdown",
      "source": [
        "### Завдання 2: Z-тест для двох незалежних вибірок\n",
        "\n",
        "**Завдання 2.1.**\n",
        "\n",
        "**Мета**: Перевірити, чи існує статистична різниця між середніми оцінками двох груп студентів.\n",
        "\n",
        "**Припущення**: Група A отримала новий навчальний курс, а група B продовжувала зі стандартним курсом. Ми перевіряємо, чи є новий курс ефективнішим.\n",
        "\n",
        "Виконайте Z-тест з Python, виведіть p-value і зробіть заключення, чи справдилось припущення щодо студентів на рівні значущості 0.05?"
      ],
      "metadata": {
        "id": "ga4iKM9kQa9Q"
      }
    },
    {
      "cell_type": "code",
      "source": [
        "group_a_scores = [78.55, 72.25, 79.88, 75.  , 76.54, 74.99, 87.26, 77.93, 72.71,\n",
        "       82.11, 71.9 , 79.04, 68.2 , 71.36, 78.98, 81.69, 78.86, 77.42,\n",
        "       76.49, 70.61, 74.4 , 75.7 , 83.29, 79.72, 69.18, 79.62, 76.07,\n",
        "       74.62, 81.06, 83.15, 82.66, 73.8 , 76.45, 79.66, 82.88, 75.6 ,\n",
        "       77.07, 72.47, 72.02, 82.06]\n",
        "\n",
        "group_b_scores = [81.78, 74.64, 80.02, 76.81, 71.77, 76.81, 82.69, 74.82, 82.82,\n",
        "       61.9 , 79.11, 75.44, 73.5 , 75.46, 65.06, 73.9 , 76.79, 82.39,\n",
        "       72.41, 70.96, 72.49, 79.58, 76.64, 72.35, 77.57, 75.49, 79.84,\n",
        "       71.49, 73.36, 73.04, 67.68, 76.48, 76.31, 75.03, 73.83, 67.92,\n",
        "       72.9 , 73.29, 70.99, 74.19]"
      ],
      "metadata": {
        "id": "SngJjNBJTgBp"
      },
      "execution_count": 9,
      "outputs": []
    },
    {
      "cell_type": "code",
      "source": [
        "alpha = 0.05\n",
        "z_score, p_value = ztest(group_a_scores, group_b_scores, alternative='two-sided')\n",
        "z_score, p_value"
      ],
      "metadata": {
        "id": "CvftCAEHYPKL",
        "colab": {
          "base_uri": "https://localhost:8080/"
        },
        "outputId": "047035a2-aa9b-4237-91bb-239109f51dbb"
      },
      "execution_count": 13,
      "outputs": [
        {
          "output_type": "execute_result",
          "data": {
            "text/plain": [
              "(2.357354864751502, 0.01840564855252801)"
            ]
          },
          "metadata": {},
          "execution_count": 13
        }
      ]
    },
    {
      "cell_type": "code",
      "source": [
        "if(p_value <  alpha):\n",
        "    print(\"Відхилити Н0.\")\n",
        "else:\n",
        "    print(\"Н0 не може бути відхилена.\")"
      ],
      "metadata": {
        "colab": {
          "base_uri": "https://localhost:8080/"
        },
        "id": "6ISP9g4aieqz",
        "outputId": "36643bfd-37a1-43d7-80b2-6f527cf7fb07"
      },
      "execution_count": 14,
      "outputs": [
        {
          "output_type": "stream",
          "name": "stdout",
          "text": [
            "Відхилити Н0.\n"
          ]
        }
      ]
    },
    {
      "cell_type": "markdown",
      "source": [
        "**Висновок**:\n",
        "\n",
        "Маємо:\n",
        "\n",
        "*   $H_0$ - середні оцінки двох груп однакові ( $H_0$: $ μ_a  = μ_b$).\n",
        "*   $H_1$ - середніі оцінки двох груп відрізняються, і так як перевіряємо, чи є єфективніший курс *A*, перевіряємо, що середні оцінки группи *A* - вищі за середні оцінки группи **B** ($H_1$:  $ μ_a  > μ_b$).\n",
        "\n",
        "Провівши Z-тест отримано значення **p-value = 0,018**, що є меншим за значення рівня значущості $ \\alpha = 0,05 $ - ми відкидаємо гіпотезу $H_0$. Таким чином можемо сказати, що статистична значуща різниця між середніми оцінками груп *A* та *B* - існує, та новий курс впливає на на оцінку студентів. Отже приймаємо гіпотезу $H_1$.\n"
      ],
      "metadata": {
        "id": "AmgwJcyvjnsX"
      }
    },
    {
      "cell_type": "markdown",
      "source": [
        "**Завдання 2.2.**\n",
        "\n",
        "\n",
        "**Мета**: Побачити, як впливає розмір вибірок на результат тесту.\n",
        "\n",
        "**Завдання**: Уявіть, що з групи А ми маємо тільки перші 5 записів, а з групи В - усі. Таке могло статись, якщо ми вже маємо результати тестів учнів за попередньою програмою, а тести за новою програмою здали наразі лише 5 учнів і ми вирішили не чекати довше.\n",
        "Виберіть перші 5 записів для групи А і проведіть t-test (для цього використовуємо наступний [метод](https://docs.scipy.org/doc/scipy/reference/generated/scipy.stats.ttest_ind.html)). Виведіть значення p-value. Зробіть висновок, який результат ви бачите щодо стат. значущості на рівні 0.05 для цього експерименту?\n",
        "\n",
        "Тут проводимо t-test оскільки одна з вибірок - дуже мала."
      ],
      "metadata": {
        "id": "zOxz2tU0VpJM"
      }
    },
    {
      "cell_type": "code",
      "source": [
        "alpha = 0.05\n",
        "group_a_scores_short = group_a_scores[:5]\n",
        "t_score, p_value = stats.ttest_ind(group_a_scores_short, group_a_scores)\n",
        "t_score, p_value"
      ],
      "metadata": {
        "id": "D9znE6liYQmP",
        "colab": {
          "base_uri": "https://localhost:8080/"
        },
        "outputId": "ca47bd44-dbe7-488d-bbd5-f20622269e87"
      },
      "execution_count": 24,
      "outputs": [
        {
          "output_type": "execute_result",
          "data": {
            "text/plain": [
              "(-0.3155796262881238, 0.7538482054501338)"
            ]
          },
          "metadata": {},
          "execution_count": 24
        }
      ]
    },
    {
      "cell_type": "code",
      "source": [
        "if(p_value <  alpha):\n",
        "    print(\"Відхилити Н0.\")\n",
        "else:\n",
        "    print(\"Н0 не може бути відхилена.\")"
      ],
      "metadata": {
        "colab": {
          "base_uri": "https://localhost:8080/"
        },
        "id": "OmljY5a6ozot",
        "outputId": "d468100c-43c9-40ef-c0ec-9e43cbd04b93"
      },
      "execution_count": 25,
      "outputs": [
        {
          "output_type": "stream",
          "name": "stdout",
          "text": [
            "Н0 не може бути відхилена.\n"
          ]
        }
      ]
    },
    {
      "cell_type": "markdown",
      "source": [
        "**Висновок**:\n",
        "\n",
        "На оновлених розмірах вибірки отримано інший результат.\n",
        "Значення **p-value = 0.75**, що є більшим за значення рівня значущості $ \\alpha = 0,05 $ - ми не можемо відкидати гіпотезу $H_0$.\n",
        "В результаті немає статистично значущої різниці між групами. А отже висновок буде таким, що ми не маємо доказів на те що новий курс *A* є ефективнішим за *B*."
      ],
      "metadata": {
        "id": "o7tPVs9vpVzf"
      }
    },
    {
      "cell_type": "markdown",
      "source": [
        "\n",
        "### Завдання 3\\*: Z-тест для двох **пов'язаних** вибірок\n",
        "\n",
        "**Мета**: Перевірити, чи вплинув тренінг на продуктивність працівників, коли всі справробітники проходили тренінг.\n",
        "\n",
        "**Припущення**: Наші працівники проходять однаковий тренінг, і ми хочемо з'ясувати, чи покращилися їхні показники після тренінгу на рівні значущості 0.05. Виконайте Z-тест з Python, виведіть p-value і зробіть заключення, чи поліпшились показники працівників на рівні значущості 0.05?\n",
        "\n",
        "Зверніть увагу, ці вибірки повʼязані між собою, значить не буде коректно виконати z-test між ними, натомість, ми можемо порівняти, чи різниця в результатах (продуктивності співробітників) є стат значущою."
      ],
      "metadata": {
        "id": "3TcRHLLz0SLw"
      }
    },
    {
      "cell_type": "code",
      "source": [
        "before_training = [57.82, 37.63, 36.8 , 55.22, 52.97, 52.5 , 53.46, 43.2 , 52.32,\n",
        "       52.93, 42.86, 68.66, 54.74, 38.09, 56.57, 40.25, 57.87, 61.59,\n",
        "       41.79, 59.63, 54.13, 58.22, 68.97, 47.55, 42.46, 41.1 , 41.84,\n",
        "       49.23, 53.41, 52.77]\n",
        "\n",
        "after_training = [62.47, 40.66, 42.7 , 57.69, 61.41, 56.76, 54.75, 44.06, 56.29,\n",
        "       55.48, 47.28, 72.6 , 57.59, 39.39, 56.54, 42.36, 62.58, 65.01,\n",
        "       42.3 , 62.98, 57.9 , 59.45, 72.28, 50.66, 43.18, 44.82, 45.96,\n",
        "       54.4 , 58.52, 53.01]"
      ],
      "metadata": {
        "id": "uxrjagJFW1GC"
      },
      "execution_count": 27,
      "outputs": []
    },
    {
      "cell_type": "code",
      "source": [
        "alpha = 0.05"
      ],
      "metadata": {
        "id": "FDgmEcFG2ORW"
      },
      "execution_count": null,
      "outputs": []
    },
    {
      "cell_type": "code",
      "source": [
        "z_score, p_value = ztest(before_training, after_training, alternative='two-sided')\n",
        "z_score, p_value"
      ],
      "metadata": {
        "id": "NwCsN91OYSpN",
        "colab": {
          "base_uri": "https://localhost:8080/"
        },
        "outputId": "7506d589-b34d-44ba-8ee9-6f49addd577c"
      },
      "execution_count": 32,
      "outputs": [
        {
          "output_type": "execute_result",
          "data": {
            "text/plain": [
              "(-1.3668871347639466, 0.17166068512470822)"
            ]
          },
          "metadata": {},
          "execution_count": 32
        }
      ]
    },
    {
      "cell_type": "code",
      "source": [
        "if(p_value <  alpha):\n",
        "    print(\"Відхилити Н0.\")\n",
        "else:\n",
        "    print(\"Н0 не може бути відхилена.\")"
      ],
      "metadata": {
        "colab": {
          "base_uri": "https://localhost:8080/"
        },
        "id": "m_qqJDnfurCk",
        "outputId": "74b83178-161d-40e1-fa32-2565ce3e32ea"
      },
      "execution_count": 33,
      "outputs": [
        {
          "output_type": "stream",
          "name": "stdout",
          "text": [
            "Н0 не може бути відхилена.\n"
          ]
        }
      ]
    },
    {
      "cell_type": "markdown",
      "source": [
        "#### Перевірка чи різниця в результатах продуктивності співробітників є статистично значущою"
      ],
      "metadata": {
        "id": "h31L-bRmy9af"
      }
    },
    {
      "cell_type": "code",
      "source": [
        "prod_diff = [a - b for a, b in zip(after_training, before_training)]\n",
        "\n",
        "h_0 = 0\n",
        "z_score, p_value = ztest(prod_diff, value=h_0 , alternative='larger')\n",
        "z_score, p_value\n"
      ],
      "metadata": {
        "colab": {
          "base_uri": "https://localhost:8080/"
        },
        "id": "n5DDrQF3y90S",
        "outputId": "b0344f45-c4c7-464c-894a-de7648cc5784"
      },
      "execution_count": 36,
      "outputs": [
        {
          "output_type": "execute_result",
          "data": {
            "text/plain": [
              "(9.13890009623916, 3.1545359919175505e-20)"
            ]
          },
          "metadata": {},
          "execution_count": 36
        }
      ]
    },
    {
      "cell_type": "code",
      "source": [
        "if(p_value <  alpha):\n",
        "    print(\"Відхилити Н0.\")\n",
        "else:\n",
        "    print(\"Н0 не може бути відхилена.\")"
      ],
      "metadata": {
        "colab": {
          "base_uri": "https://localhost:8080/"
        },
        "id": "FmO494-e0YN_",
        "outputId": "37c87f8d-e6c7-4beb-8aca-4b753c40c171"
      },
      "execution_count": 37,
      "outputs": [
        {
          "output_type": "stream",
          "name": "stdout",
          "text": [
            "Відхилити Н0.\n"
          ]
        }
      ]
    },
    {
      "cell_type": "markdown",
      "source": [
        "**Висновок**:\n",
        "\n",
        "Маємо:\n",
        "\n",
        "*   $H_0$ - середні показники продуктивності однакові ( $H_0$: $ μ_bt = μ_at$).\n",
        "*   $H_1$ - середні показники продуктивності зросли ( $H_0$: $ μ_bt > μ_at$).\n",
        "\n",
        "Використавши Z-тест на даних зв'язаних вібиріках отримано значення **p-value = 0,171**, що є більшим за значення рівня значущості $ \\alpha = 0,05 $, згідно чого $H_0$ не може бути відкинута.\n",
        "\n",
        "Для порівняння чи різниця в результатах є статистично значущою, можемо переформулювати задачу.\n",
        "\n",
        "*   $H_0$ - статистична значущість різниці продуктивності відсутня ( $H_0$: $ μ = 0$).\n",
        "*   $H_1$ - Продуктивність зросла ( $H_0$: $ μ > 0$).\n",
        "\n",
        "Використавши Z-тест для з'ясування чи є різниця продуктивності статистично значущою, тримано значення $p-value \\approx 0$, що є менше $ \\alpha = 0,05 $,та говорить про те, що можемо відкинути гіпотезу  $H_0$. Таким чином можемо сказати, що різниця до і після тренінгу є статистично значущою."
      ],
      "metadata": {
        "id": "dBfjAoUIrP-y"
      }
    },
    {
      "cell_type": "code",
      "source": [],
      "metadata": {
        "id": "6w2LJMTTucaA"
      },
      "execution_count": null,
      "outputs": []
    }
  ]
}