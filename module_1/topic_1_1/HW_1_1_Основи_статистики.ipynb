{
 "cells": [
  {
   "cell_type": "markdown",
   "metadata": {},
   "source": [
    "## Основи статистики"
   ]
  },
  {
   "cell_type": "code",
   "execution_count": 1,
   "metadata": {
    "ExecuteTime": {
     "end_time": "2024-12-07T19:29:57.852376Z",
     "start_time": "2024-12-07T19:29:57.639245Z"
    }
   },
   "outputs": [],
   "source": [
    "import numpy as np"
   ]
  },
  {
   "cell_type": "markdown",
   "metadata": {
    "id": "SDhaTqxcWhnP"
   },
   "source": [
    "В цьому домашньому завданні відпрацюємо з вами знання, отримані в модулі зі статистики.\n",
    "\n",
    "**Завдання 1.** Ми обговорили з Вами на лекції, що велика літера Сігма грецького алфавіту позначає в математиці суму. Знайдіть з використанням Python $\\Sigma x$, $\\Sigma x^2$, та $\\Sigma (x-1)^2$ для наступного набору даних:\n",
    "`1 3 4`\n",
    "Виведіть результат кожного обчислення на екран."
   ]
  },
  {
   "cell_type": "code",
   "execution_count": 2,
   "metadata": {
    "ExecuteTime": {
     "end_time": "2024-12-05T18:34:09.528584Z",
     "start_time": "2024-12-05T18:34:09.522586Z"
    },
    "id": "B1mgx_IBT0e8"
   },
   "outputs": [],
   "source": [
    "x = [1, 3, 4]"
   ]
  },
  {
   "cell_type": "code",
   "execution_count": 3,
   "metadata": {
    "ExecuteTime": {
     "end_time": "2024-12-05T18:38:00.190344Z",
     "start_time": "2024-12-05T18:38:00.177346Z"
    }
   },
   "outputs": [
    {
     "data": {
      "text/plain": [
       "8"
      ]
     },
     "execution_count": 3,
     "metadata": {},
     "output_type": "execute_result"
    }
   ],
   "source": [
    "sigma = sum(x)\n",
    "sigma"
   ]
  },
  {
   "cell_type": "code",
   "execution_count": 4,
   "metadata": {
    "ExecuteTime": {
     "end_time": "2024-12-05T18:36:29.602342Z",
     "start_time": "2024-12-05T18:36:29.592342Z"
    }
   },
   "outputs": [
    {
     "data": {
      "text/plain": [
       "26"
      ]
     },
     "execution_count": 4,
     "metadata": {},
     "output_type": "execute_result"
    }
   ],
   "source": [
    "sigma_2 = sum([i**2 for i in x])\n",
    "sigma_2"
   ]
  },
  {
   "cell_type": "code",
   "execution_count": 5,
   "metadata": {
    "ExecuteTime": {
     "end_time": "2024-12-05T18:39:33.882072Z",
     "start_time": "2024-12-05T18:39:33.872073Z"
    }
   },
   "outputs": [
    {
     "data": {
      "text/plain": [
       "13"
      ]
     },
     "execution_count": 5,
     "metadata": {},
     "output_type": "execute_result"
    }
   ],
   "source": [
    "sigma_3 = sum([(i-1)**2 for i in x])\n",
    "sigma_3"
   ]
  },
  {
   "cell_type": "markdown",
   "metadata": {},
   "source": [
    "Відповідь: $\\Sigma x$ = 8, $\\Sigma x^2$ = 26, та $\\Sigma (x-1)^2$ = 13"
   ]
  },
  {
   "cell_type": "markdown",
   "metadata": {
    "id": "fa78aW5lhiia"
   },
   "source": [
    "**Завдання 2.** Ми зібрали дані про суму покупок в гривнях 20ма випадково обраними клієнтами в нашому магазині (всього клієнтів у нас більше) за минулий місяць. Вони представлені в змінній `sum_purchases`. Знайдіть **вибіркове середнє** для цих даних кожним з зазначених методів:   \n",
    "\n",
    "  2.1. без використання жодних бібліотек, користуючись тільки Python.  \n",
    "  2.2. використовуючи відповідний метод бібліотеки `numpy`.\n",
    "\n",
    "  Виведіть результат обчислень в кожному з випадків на екран та порівняйте результати. Вони співпадають?"
   ]
  },
  {
   "cell_type": "code",
   "execution_count": 6,
   "metadata": {
    "ExecuteTime": {
     "end_time": "2024-12-06T15:45:52.310800Z",
     "start_time": "2024-12-06T15:45:52.305800Z"
    },
    "id": "_9kMt3rq6V5m"
   },
   "outputs": [],
   "source": [
    "sum_purchases = [ 316,  493,  367,  153,  224,  121,  322,  450,  196,  397,  281,\n",
    "  239,  484,  124,  223,  448,  432,  255, 4310, 3524]"
   ]
  },
  {
   "cell_type": "code",
   "execution_count": 7,
   "metadata": {
    "ExecuteTime": {
     "end_time": "2024-12-05T19:09:00.196546Z",
     "start_time": "2024-12-05T19:09:00.187573Z"
    }
   },
   "outputs": [
    {
     "name": "stdout",
     "output_type": "stream",
     "text": [
      "[121, 124, 153, 196, 223, 224, 239, 255, 281, 316, 322, 367, 397, 432, 448, 450, 484, 493, 3524, 4310]\n"
     ]
    }
   ],
   "source": [
    "sorted_sum_purchases = sorted(sum_purchases)\n",
    "print(sorted_sum_purchases)"
   ]
  },
  {
   "cell_type": "markdown",
   "metadata": {},
   "source": [
    "2.1 розрахунок вибіркового середнього без бібліотек:"
   ]
  },
  {
   "cell_type": "code",
   "execution_count": 8,
   "metadata": {
    "ExecuteTime": {
     "end_time": "2024-12-05T18:44:50.576101Z",
     "start_time": "2024-12-05T18:44:50.563097Z"
    },
    "id": "wPmL919HT1c0"
   },
   "outputs": [
    {
     "data": {
      "text/plain": [
       "667.95"
      ]
     },
     "execution_count": 8,
     "metadata": {},
     "output_type": "execute_result"
    }
   ],
   "source": [
    "mean_purchases = (sum(sum_purchases)/len(sum_purchases))\n",
    "mean_purchases"
   ]
  },
  {
   "cell_type": "markdown",
   "metadata": {},
   "source": [
    "2.2 розрахунок вибіркового середнього за допомогою numpy:"
   ]
  },
  {
   "cell_type": "code",
   "execution_count": 9,
   "metadata": {
    "ExecuteTime": {
     "end_time": "2024-12-05T18:45:48.575541Z",
     "start_time": "2024-12-05T18:45:48.377006Z"
    }
   },
   "outputs": [
    {
     "data": {
      "text/plain": [
       "667.95"
      ]
     },
     "execution_count": 9,
     "metadata": {},
     "output_type": "execute_result"
    }
   ],
   "source": [
    "np.mean(mean_purchases)"
   ]
  },
  {
   "cell_type": "markdown",
   "metadata": {},
   "source": [
    "Відповідь: Значення вибіркового середнього, що було розраховано без бібліотек, та з використанням бібліотеки numpy - співпадають. В обох випадках було отримано значення 669.95"
   ]
  },
  {
   "cell_type": "markdown",
   "metadata": {
    "id": "FMdoxZd0kZdW"
   },
   "source": [
    "**Завдання 3.** Для того ж набору даних в змінній `sum_purchases` обчисліть **медіану** кожним з зазначених методів:  \n",
    "\n",
    "  3.1. без використання жодних бібліотек, користуючись тільки Python.  \n",
    "  3.2. використовуючи відповідний метод бібліотеки numpy.  \n",
    "\n",
    "Виведіть результат обчислень в кожному з випадків на екран. Порівняйте результати зі значенням вибіркового середнього. Напишіть коментар, для яких задач ви б використовували вибіркове середнє, а для яких - медіану?"
   ]
  },
  {
   "cell_type": "markdown",
   "metadata": {
    "id": "x58BumvuT2nl"
   },
   "source": [
    "3.1. обчислення медіани без бібліотек"
   ]
  },
  {
   "cell_type": "code",
   "execution_count": 10,
   "metadata": {
    "ExecuteTime": {
     "end_time": "2024-12-05T19:05:06.552628Z",
     "start_time": "2024-12-05T19:05:06.539629Z"
    }
   },
   "outputs": [],
   "source": [
    "def median(data):\n",
    "    data = sorted(data)\n",
    "    i = len(data)//2\n",
    "    return (data[i - 1] + data[i]) / 2 if len(data) % 2 == 0 else data[i]"
   ]
  },
  {
   "cell_type": "code",
   "execution_count": 11,
   "metadata": {
    "ExecuteTime": {
     "end_time": "2024-12-05T19:05:07.506752Z",
     "start_time": "2024-12-05T19:05:07.498747Z"
    }
   },
   "outputs": [
    {
     "data": {
      "text/plain": [
       "319.0"
      ]
     },
     "execution_count": 11,
     "metadata": {},
     "output_type": "execute_result"
    }
   ],
   "source": [
    "median(sum_purchases)"
   ]
  },
  {
   "cell_type": "markdown",
   "metadata": {},
   "source": [
    "3.2. Обчислення медіани за допомогою numpy"
   ]
  },
  {
   "cell_type": "code",
   "execution_count": 12,
   "metadata": {
    "ExecuteTime": {
     "end_time": "2024-12-05T19:04:26.129030Z",
     "start_time": "2024-12-05T19:04:26.117029Z"
    }
   },
   "outputs": [
    {
     "data": {
      "text/plain": [
       "319.0"
      ]
     },
     "execution_count": 12,
     "metadata": {},
     "output_type": "execute_result"
    }
   ],
   "source": [
    "np.median(sum_purchases)"
   ]
  },
  {
   "cell_type": "markdown",
   "metadata": {},
   "source": [
    "Відповідь: Результат обчислення медіани двома способами співпадає, в обох випадках отримано ```319.0```.\n",
    "\n",
    "Порівнюючи з вибірковим середнім - ```667.95```, бачимо, що значення медіани в два рази менше - ```319.0```. В даному випадку, якщо відсортувати вибірку, можемо побачити, що 2 значення є значно більшими за значення у вибірці -  ```3524```, ```4310```, що зумовило таке значення середнього.\n",
    "Значення середнього є чутливим до подібних викидів, тому не є гарною ідеєю використання цього показника для вибірок з великими викидами, краще скористатися медіаною, бо цей показник менш чутливий до аномалій.\n",
    "\n",
    "Вибіркове середнє підійде для випадків коли ми знаємо, що треба точно врахувати всі значення у вибірці, і ми знаємо що розподіл більш рівномірний, та показники є приблизно однаковими, без явних відхилень від загальної тенденції, тобто є не значними. Через те, що враховуються всі елементи середнє значення може суттєво спотворюватися при наявності навіть одного значного викиду.\n",
    "\n",
    "Медіана підійде для випадків, коли вибірка містить аномальні значення, де, наприклад маємо намір проаналізувати набір даних де є широкий розкид. Тож для такого класу задач підійде краще медіана, через свою не чутливість до викидів.\n",
    "\n",
    "Наприклад при розрахунку середніх зарплат треба використовувати медіану, що буде добре відображати, що половина людей має дохід нижче, а половина вище за медіанне значення. Середнє для такого кейсу використовувати не можна, бо наявність 1-ї дуже високої зарплати спотворить уявлення про середню заплату в цілому."
   ]
  },
  {
   "cell_type": "markdown",
   "metadata": {
    "id": "o1Z7az2yNDQV"
   },
   "source": [
    "**Завдання 4**. Обчислість стандартне відхилення наведеної вибірки в змінній `sum_purchases` кожним з зазначених методів:  \n",
    "\n",
    "  4.1. без використання жодних бібліотек, користуючись тільки Python.  \n",
    "  4.2. використовуючи відповідний метод бібліотеки numpy.  \n",
    "\n",
    "Виведіть результат обчислень в кожному з випадків на екран."
   ]
  },
  {
   "cell_type": "markdown",
   "metadata": {},
   "source": [
    "4.1. Обчислення без використання бібліотек"
   ]
  },
  {
   "cell_type": "code",
   "execution_count": 13,
   "metadata": {
    "ExecuteTime": {
     "end_time": "2024-12-06T16:18:37.555124Z",
     "start_time": "2024-12-06T16:18:37.543122Z"
    }
   },
   "outputs": [],
   "source": [
    "def standard_deviation(data):\n",
    "    mean = sum(data) / len(data)\n",
    "    x_minus_mean = [(i - mean)**2 for i in data]\n",
    "    return (sum(x_minus_mean) / (len(data) - 1))**0.5"
   ]
  },
  {
   "cell_type": "code",
   "execution_count": 14,
   "metadata": {
    "ExecuteTime": {
     "end_time": "2024-12-05T19:43:52.438067Z",
     "start_time": "2024-12-05T19:43:52.428067Z"
    },
    "id": "X4ixtmL2T642"
   },
   "outputs": [
    {
     "data": {
      "text/plain": [
       "1124.5433447451132"
      ]
     },
     "execution_count": 14,
     "metadata": {},
     "output_type": "execute_result"
    }
   ],
   "source": [
    "standard_deviation(data=sum_purchases)"
   ]
  },
  {
   "cell_type": "markdown",
   "metadata": {},
   "source": [
    "4.2. Обчислення з використанням numpy"
   ]
  },
  {
   "cell_type": "code",
   "execution_count": 15,
   "metadata": {
    "ExecuteTime": {
     "end_time": "2024-12-05T19:43:23.744404Z",
     "start_time": "2024-12-05T19:43:23.724401Z"
    }
   },
   "outputs": [
    {
     "data": {
      "text/plain": [
       "1124.5433447451132"
      ]
     },
     "execution_count": 15,
     "metadata": {},
     "output_type": "execute_result"
    }
   ],
   "source": [
    "np.std(sum_purchases, ddof=1)"
   ]
  },
  {
   "cell_type": "markdown",
   "metadata": {},
   "source": [
    "Відповідь: Обчислення стандартного відхилення вля вибірки за допомогою бібліотеки і без бібіотек співпадають і рівні ```1124.5433447451132```"
   ]
  },
  {
   "cell_type": "markdown",
   "metadata": {
    "id": "M1ntKTjXLVlH"
   },
   "source": [
    "**Завдання 5**. Ми провели дослідження віку студентів-першокурсників. Виявилось, що\n",
    "- 10 студентів мають вік 16 років\n",
    "- 25 студентів - 17 років\n",
    "- 20 студентів - 18 років\n",
    "- 2 студенти - 20 років\n",
    "\n",
    "Обчислість середнє значення для цієї вибірки будь-яким способом - на чистому Python або з numpy - та виведіть результат на екран."
   ]
  },
  {
   "cell_type": "code",
   "execution_count": 16,
   "metadata": {
    "ExecuteTime": {
     "end_time": "2024-12-05T19:47:49.634854Z",
     "start_time": "2024-12-05T19:47:49.629853Z"
    },
    "id": "RdIU4M-7T8R4"
   },
   "outputs": [
    {
     "name": "stdout",
     "output_type": "stream",
     "text": [
      "[16, 16, 16, 16, 16, 16, 16, 16, 16, 16, 17, 17, 17, 17, 17, 17, 17, 17, 17, 17, 17, 17, 17, 17, 17, 17, 17, 17, 17, 17, 17, 17, 17, 17, 17, 18, 18, 18, 18, 18, 18, 18, 18, 18, 18, 18, 18, 18, 18, 18, 18, 18, 18, 18, 18, 20, 20]\n"
     ]
    }
   ],
   "source": [
    "data_sample = 10 * [16] + 25 * [17] + 20 * [18] + 2 * [20]\n",
    "print(data_sample)"
   ]
  },
  {
   "cell_type": "code",
   "execution_count": 17,
   "metadata": {
    "ExecuteTime": {
     "end_time": "2024-12-05T19:49:58.179508Z",
     "start_time": "2024-12-05T19:49:58.166508Z"
    }
   },
   "outputs": [
    {
     "data": {
      "text/plain": [
       "17.280701754385966"
      ]
     },
     "execution_count": 17,
     "metadata": {},
     "output_type": "execute_result"
    }
   ],
   "source": [
    "mean_student_age = sum(data_sample) / len(data_sample)\n",
    "mean_student_age"
   ]
  },
  {
   "cell_type": "code",
   "execution_count": 18,
   "metadata": {},
   "outputs": [
    {
     "data": {
      "text/plain": [
       "17"
      ]
     },
     "execution_count": 18,
     "metadata": {},
     "output_type": "execute_result"
    }
   ],
   "source": [
    "median(data_sample)"
   ]
  },
  {
   "cell_type": "markdown",
   "metadata": {},
   "source": [
    "Відповідь: середній вік студентів \\~ 17.28. \n",
    "\n",
    "Саме ця задача виглядає як гарний приклад того, що тут можна використовувати для обчилення вибіркове середнє, бо вибірка не має великого розкиду, всі студенти приблизно одного віку, тому результат тут не буде спотвореним. Для того щоб порівняти значення, також вирішила подивитись на медіану, тут вже немає такої великої різниці між медіаною та середнім."
   ]
  },
  {
   "cell_type": "markdown",
   "metadata": {
    "id": "Xx8MFkkVM53z"
   },
   "source": [
    "**Завдання 6**. Крім даних про суму покупок, ми зібрали ще дані про кількість відвідувань кожного з кожного покупця, які знаходяться в змінній `visits`. Обчисліть коефіцієнт кореляції Пірсона для суми покупок і кількості відвідувань кожним з зазначених методів:  \n",
    "\n",
    "  6.1. без використання жодних бібліотек, користуючись тільки Python.  \n",
    "  6.2. використовуючи відповідний метод бібліотеки numpy.  \n",
    "  \n",
    "Виведіть результат на екран. Проаналізуйте результат.\n",
    "\n",
    "Виведіть додатково графік розсіювання викликавши код нижче і зробіть заключення, чи варто щось змінити при підрахунку кореляції, аби коефіцієнт Пірсона показував коректну оцінку лінійної залежності?"
   ]
  },
  {
   "cell_type": "code",
   "execution_count": 19,
   "metadata": {
    "ExecuteTime": {
     "end_time": "2024-12-06T15:46:56.530350Z",
     "start_time": "2024-12-06T15:46:56.517351Z"
    },
    "id": "4OIGBT7UOWhO"
   },
   "outputs": [],
   "source": [
    "visits = [ 6,  2, 10,  3,  9,  9,  2,  3,  6,  6, 10,  2,  5, 10,  3,  5,  4,\n",
    "        7,  4,  2]"
   ]
  },
  {
   "cell_type": "markdown",
   "metadata": {},
   "source": [
    "Обчислення значення кореляції Пірсона без використання бібліотек:"
   ]
  },
  {
   "cell_type": "code",
   "execution_count": 20,
   "metadata": {
    "ExecuteTime": {
     "end_time": "2024-12-06T16:21:41.789940Z",
     "start_time": "2024-12-06T16:21:41.779939Z"
    }
   },
   "outputs": [
    {
     "data": {
      "text/plain": [
       "-0.3026584468766646"
      ]
     },
     "execution_count": 20,
     "metadata": {},
     "output_type": "execute_result"
    }
   ],
   "source": [
    "def covariance(x, y):\n",
    "    if len(x) != len(y):\n",
    "        return None\n",
    "    n = len(x)\n",
    "    x_mean = sum(x) / n\n",
    "    y_mean = sum(y) / n\n",
    "    return sum((i - x_mean) * (j - y_mean) for i, j in zip(x, y)) / (n - 1)\n",
    "\n",
    "def pearson_correlation(x, y):\n",
    "    cov = covariance(x, y)\n",
    "    sd_x = standard_deviation(x)\n",
    "    sd_y = standard_deviation(y)\n",
    "    return cov / (sd_x * sd_y)\n",
    "\n",
    "pearson_correlation(sum_purchases, visits)"
   ]
  },
  {
   "cell_type": "markdown",
   "metadata": {},
   "source": [
    "Обчислення значення кореляції Пірсона за допомогою бібліотеки numpy.:"
   ]
  },
  {
   "cell_type": "code",
   "execution_count": 21,
   "metadata": {
    "ExecuteTime": {
     "end_time": "2024-12-06T15:46:57.993984Z",
     "start_time": "2024-12-06T15:46:57.939182Z"
    },
    "id": "YLNF7VbeT97Q"
   },
   "outputs": [
    {
     "data": {
      "text/plain": [
       "array([[ 1.        , -0.30265845],\n",
       "       [-0.30265845,  1.        ]])"
      ]
     },
     "execution_count": 21,
     "metadata": {},
     "output_type": "execute_result"
    }
   ],
   "source": [
    "np.corrcoef(sum_purchases,visits)"
   ]
  },
  {
   "cell_type": "code",
   "execution_count": 22,
   "metadata": {
    "ExecuteTime": {
     "end_time": "2024-12-06T16:22:46.990266Z",
     "start_time": "2024-12-06T16:22:46.247358Z"
    },
    "colab": {
     "base_uri": "https://localhost:8080/",
     "height": 472
    },
    "id": "gaeoGA-5Prr1",
    "outputId": "0c910a7f-0e96-449a-881d-1efa453b3c8d"
   },
   "outputs": [
    {
     "data": {
      "image/png": "[encoded data removed]",
      "text/plain": [
       "<Figure size 432x288 with 1 Axes>"
      ]
     },
     "metadata": {
      "needs_background": "light"
     },
     "output_type": "display_data"
    }
   ],
   "source": [
    "import matplotlib.pyplot as plt\n",
    "\n",
    "plt.scatter(sum_purchases, visits)\n",
    "plt.title('Scatter Plot of Purchases vs. Visits')\n",
    "plt.xlabel('Sum of Purchases')\n",
    "plt.ylabel('Number of Visits');"
   ]
  },
  {
   "cell_type": "markdown",
   "metadata": {},
   "source": [
    "Відповідь: Отримані значення розрахунку кореляції Пірсона за допомогою бібліотеки та без неї - збігаються. Отримане значення кореляції негативне ``` -0.3026584468766646 ```, що свідчить про негативну кореляцію, та є ближчим до 0 чим до -1, що не свідчить про дуже сильний лінійний зв'язок між цими змінними.\n",
    "Дивлячись на діаграму розсіювання можна сказати, що останні 2 значення з ```sum_purchases``` (якщо відсортуємо) є аномальними, що значною мірою може спотворювати результати кореляції. Щоб оцінити більш реальне значення треба подивитись на значення кореляції без викидів, це дасть більш реалістичну оцінку зв’язку між змінними.\n"
   ]
  },
  {
   "cell_type": "markdown",
   "metadata": {
    "id": "4pEg0KzSQ6KA"
   },
   "source": [
    "**Завдання 7**. В попередньому завданні ми помітили, що викиди нам заважають отримати \"правдиве\" значення кореляції. Давайте вилучимо записи, які відповідають значенням з викидами в сумі покупок і обчисліть коеф. кореляції. Для цього поставте `threshold`, який дорінює середньому значенню + 2 стандартних вдіхилля суми покупок і всі значення, які більше за нього, будемо вважати викидами (є і інші правила для визначення викидів - з ним и познайомимось пізніше).\n",
    "\n",
    "Вилучіть значення з обох масивів і обчисліть коеф. кореляції Пірсона з допомогою `numpy` для кількості візитів і суми покупок без записів-викидів. Виведіть результат на екран, побудуйте діаграму розсіювання і проаналізуйте результат: що можемо сказати про залежність в даних?"
   ]
  },
  {
   "cell_type": "code",
   "execution_count": 23,
   "metadata": {
    "ExecuteTime": {
     "end_time": "2024-12-06T16:44:17.657572Z",
     "start_time": "2024-12-06T16:44:17.645060Z"
    },
    "id": "Yj3Yfaf7UBbc"
   },
   "outputs": [
    {
     "data": {
      "text/plain": [
       "2917.0366894902263"
      ]
     },
     "execution_count": 23,
     "metadata": {},
     "output_type": "execute_result"
    }
   ],
   "source": [
    "threshold = np.mean(sum_purchases) + 2 * np.std(sum_purchases, ddof=1)\n",
    "threshold"
   ]
  },
  {
   "cell_type": "code",
   "execution_count": 24,
   "metadata": {
    "ExecuteTime": {
     "end_time": "2024-12-06T16:49:15.154551Z",
     "start_time": "2024-12-06T16:49:15.144552Z"
    }
   },
   "outputs": [],
   "source": [
    "sum_purchases_cleaned, visits_cleaned = zip(*[(x, y) for x, y in zip(sum_purchases, visits) if x <= threshold])"
   ]
  },
  {
   "cell_type": "code",
   "execution_count": 25,
   "metadata": {
    "ExecuteTime": {
     "end_time": "2024-12-06T16:49:47.425566Z",
     "start_time": "2024-12-06T16:49:47.418567Z"
    }
   },
   "outputs": [
    {
     "data": {
      "text/plain": [
       "array([[ 1.        , -0.36852121],\n",
       "       [-0.36852121,  1.        ]])"
      ]
     },
     "execution_count": 25,
     "metadata": {},
     "output_type": "execute_result"
    }
   ],
   "source": [
    "np.corrcoef(sum_purchases_cleaned,visits_cleaned)"
   ]
  },
  {
   "cell_type": "code",
   "execution_count": 26,
   "metadata": {
    "ExecuteTime": {
     "end_time": "2024-12-06T16:50:34.372626Z",
     "start_time": "2024-12-06T16:50:34.167610Z"
    }
   },
   "outputs": [
    {
     "data": {
      "image/png": "[encoded data removed]",
      "text/plain": [
       "<Figure size 432x288 with 1 Axes>"
      ]
     },
     "metadata": {
      "needs_background": "light"
     },
     "output_type": "display_data"
    }
   ],
   "source": [
    "import matplotlib.pyplot as plt\n",
    "\n",
    "plt.scatter(sum_purchases_cleaned, visits_cleaned)\n",
    "plt.title('Scatter Plot of Purchases vs. Visits')\n",
    "plt.xlabel('Sum of Purchases')\n",
    "plt.ylabel('Number of Visits');"
   ]
  },
  {
   "cell_type": "markdown",
   "metadata": {},
   "source": [
    "Відповідь: Після того як було відкинуто аномальні значення - значення кореляції також змінилось - з ```-0.302658``` на ```-0.368521```. Кореляція все ж таки негативна, і після виключення викидів трішки наблизилась до -1. Але все одно лінійний зв'язок між змінними слабкий, що можемо побачити з діаграми розсіювання."
   ]
  }
 ],
 "metadata": {
  "colab": {
   "provenance": []
  },
  "kernelspec": {
   "display_name": "Python 3",
   "language": "python",
   "name": "python3"
  },
  "language_info": {
   "codemirror_mode": {
    "name": "ipython",
    "version": 3
   },
   "file_extension": ".py",
   "mimetype": "text/x-python",
   "name": "python",
   "nbconvert_exporter": "python",
   "pygments_lexer": "ipython3",
   "version": "3.8.8"
  }
 },
 "nbformat": 4,
 "nbformat_minor": 4
}
